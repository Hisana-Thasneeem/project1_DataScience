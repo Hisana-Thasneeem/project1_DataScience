{
 "cells": [
  {
   "cell_type": "markdown",
   "metadata": {},
   "source": [
    "# 1"
   ]
  },
  {
   "cell_type": "code",
   "execution_count": 2,
   "metadata": {},
   "outputs": [
    {
     "name": "stdout",
     "output_type": "stream",
     "text": [
      "                  Id         groupId         matchId  assists  boosts  \\\n",
      "0     2f262dd9795e60  78437bcd91d40e  d5db3a49eb2955        0       0   \n",
      "1     a32847cf5bf34b  85b7ce5a12e10b  65223f05c7fdb4        0       0   \n",
      "2     1b1900a9990396  edf80d6523380a  1cadec4534f30a        0       3   \n",
      "3     f589dd03b60bf2  804ab5e5585558  c4a5676dc91604        0       0   \n",
      "4     c23c4cc5b78b35  b3e2cd169ed920  cd595700a01bfa        0       0   \n",
      "...              ...             ...             ...      ...     ...   \n",
      "9995  ef4f474acd8e85  2eca2a8391f75d  492ecdfae90b46        0       3   \n",
      "9996  cf0bf82fb4d80e  2eaf2765f93adb  14bffd71e96320        0       0   \n",
      "9997  a0a31a0b1dcbe1  8d50c64ccc5071  147e4bbb62e3bb        0       0   \n",
      "9998  f6874657399d69  d31843d7e62ccb  662567dcf280f5        0       0   \n",
      "9999  90359b0b8f8b0d  61d5b1bb8da43f  258bfa48d88014        0       0   \n",
      "\n",
      "      damageDealt  DBNOs  headshotKills  heals  killPlace  ...  revives  \\\n",
      "0             0.0      0              0      0         92  ...        0   \n",
      "1           163.2      1              1      0         42  ...        0   \n",
      "2           278.7      2              1      8         16  ...        3   \n",
      "3           191.9      1              0      0         31  ...        0   \n",
      "4           100.0      1              0      0         87  ...        0   \n",
      "...           ...    ...            ...    ...        ...  ...      ...   \n",
      "9995        204.5      1              0      0         17  ...        3   \n",
      "9996          0.0      0              0      0         49  ...        0   \n",
      "9997          0.0      0              0      0         83  ...        0   \n",
      "9998          0.0      0              0      0         82  ...        0   \n",
      "9999          0.0      0              0      0         78  ...        0   \n",
      "\n",
      "      rideDistance  roadKills  swimDistance  teamKills vehicleDestroys  \\\n",
      "0              0.0          0           0.0          0               0   \n",
      "1              0.0          0           0.0          0               0   \n",
      "2              0.0          0           0.0          0               0   \n",
      "3              0.0          0           0.0          0               0   \n",
      "4              0.0          0           0.0          0               0   \n",
      "...            ...        ...           ...        ...             ...   \n",
      "9995           0.0          0           0.0          0               0   \n",
      "9996           0.0          0           0.0          0               0   \n",
      "9997           0.0          0           0.0          0               0   \n",
      "9998           0.0          0           0.0          0               0   \n",
      "9999           0.0          0           0.0          0               0   \n",
      "\n",
      "      walkDistance  weaponsAcquired  winPoints  winPlacePerc  \n",
      "0             0.00                0       1470        0.0000  \n",
      "1           132.70                2       1531        0.2222  \n",
      "2          3591.00               10          0        0.8571  \n",
      "3           332.70                3          0        0.3462  \n",
      "4           252.70                3       1557        0.0690  \n",
      "...            ...              ...        ...           ...  \n",
      "9995       1648.00                4       1471        0.8333  \n",
      "9996        897.10                6       1500        0.7174  \n",
      "9997        188.20                2       1434        0.2083  \n",
      "9998        108.10                5       1534        0.2449  \n",
      "9999         53.36                1          0        0.1875  \n",
      "\n",
      "[10000 rows x 29 columns]\n"
     ]
    }
   ],
   "source": [
    "import pandas as pd\n",
    "data = pd.read_csv(\"project.csv\")\n",
    "print(data)"
   ]
  },
  {
   "cell_type": "markdown",
   "metadata": {},
   "source": [
    "# 2"
   ]
  },
  {
   "cell_type": "code",
   "execution_count": 6,
   "metadata": {},
   "outputs": [
    {
     "data": {
      "text/plain": [
       "pandas.core.series.Series"
      ]
     },
     "execution_count": 6,
     "metadata": {},
     "output_type": "execute_result"
    }
   ],
   "source": [
    "type(data['groupId'])"
   ]
  },
  {
   "cell_type": "code",
   "execution_count": 7,
   "metadata": {},
   "outputs": [
    {
     "data": {
      "text/plain": [
       "pandas.core.series.Series"
      ]
     },
     "execution_count": 7,
     "metadata": {},
     "output_type": "execute_result"
    }
   ],
   "source": [
    "type(data['matchId'])"
   ]
  },
  {
   "cell_type": "code",
   "execution_count": 9,
   "metadata": {},
   "outputs": [
    {
     "data": {
      "text/plain": [
       "pandas.core.series.Series"
      ]
     },
     "execution_count": 9,
     "metadata": {},
     "output_type": "execute_result"
    }
   ],
   "source": [
    "type(data['assists'])"
   ]
  },
  {
   "cell_type": "code",
   "execution_count": 11,
   "metadata": {},
   "outputs": [
    {
     "name": "stdout",
     "output_type": "stream",
     "text": [
      "<class 'pandas.core.indexes.base.Index'>\n"
     ]
    }
   ],
   "source": [
    "dt = data.columns\n",
    "print(type(dt))"
   ]
  },
  {
   "cell_type": "markdown",
   "metadata": {},
   "source": [
    "# 3"
   ]
  },
  {
   "cell_type": "code",
   "execution_count": 13,
   "metadata": {},
   "outputs": [
    {
     "name": "stdout",
     "output_type": "stream",
     "text": [
      "Index(['assists', 'boosts', 'damageDealt', 'DBNOs', 'headshotKills', 'heals',\n",
      "       'killPlace', 'killPoints', 'kills', 'killStreaks', 'longestKill',\n",
      "       'matchDuration', 'maxPlace', 'numGroups', 'rankPoints', 'revives',\n",
      "       'rideDistance', 'roadKills', 'swimDistance', 'teamKills',\n",
      "       'vehicleDestroys', 'walkDistance', 'weaponsAcquired', 'winPoints',\n",
      "       'winPlacePerc'],\n",
      "      dtype='object')\n",
      "      assists  boosts  damageDealt  DBNOs  headshotKills  heals  killPlace  \\\n",
      "0           0       0          0.0      0              0      0         92   \n",
      "1           0       0        163.2      1              1      0         42   \n",
      "2           0       3        278.7      2              1      8         16   \n",
      "3           0       0        191.9      1              0      0         31   \n",
      "4           0       0        100.0      1              0      0         87   \n",
      "...       ...     ...          ...    ...            ...    ...        ...   \n",
      "9995        0       3        204.5      1              0      0         17   \n",
      "9996        0       0          0.0      0              0      0         49   \n",
      "9997        0       0          0.0      0              0      0         83   \n",
      "9998        0       0          0.0      0              0      0         82   \n",
      "9999        0       0          0.0      0              0      0         78   \n",
      "\n",
      "      killPoints  kills  killStreaks  ...  revives  rideDistance  roadKills  \\\n",
      "0           1126      0            0  ...        0           0.0          0   \n",
      "1           1309      1            1  ...        0           0.0          0   \n",
      "2              0      2            1  ...        3           0.0          0   \n",
      "3              0      1            1  ...        0           0.0          0   \n",
      "4           1332      0            0  ...        0           0.0          0   \n",
      "...          ...    ...          ...  ...      ...           ...        ...   \n",
      "9995        1033      2            1  ...        3           0.0          0   \n",
      "9996        1000      0            0  ...        0           0.0          0   \n",
      "9997        1334      0            0  ...        0           0.0          0   \n",
      "9998        1335      0            0  ...        0           0.0          0   \n",
      "9999           0      0            0  ...        0           0.0          0   \n",
      "\n",
      "      swimDistance  teamKills  vehicleDestroys  walkDistance  weaponsAcquired  \\\n",
      "0              0.0          0                0          0.00                0   \n",
      "1              0.0          0                0        132.70                2   \n",
      "2              0.0          0                0       3591.00               10   \n",
      "3              0.0          0                0        332.70                3   \n",
      "4              0.0          0                0        252.70                3   \n",
      "...            ...        ...              ...           ...              ...   \n",
      "9995           0.0          0                0       1648.00                4   \n",
      "9996           0.0          0                0        897.10                6   \n",
      "9997           0.0          0                0        188.20                2   \n",
      "9998           0.0          0                0        108.10                5   \n",
      "9999           0.0          0                0         53.36                1   \n",
      "\n",
      "      winPoints  winPlacePerc  \n",
      "0          1470        0.0000  \n",
      "1          1531        0.2222  \n",
      "2             0        0.8571  \n",
      "3             0        0.3462  \n",
      "4          1557        0.0690  \n",
      "...         ...           ...  \n",
      "9995       1471        0.8333  \n",
      "9996       1500        0.7174  \n",
      "9997       1434        0.2083  \n",
      "9998       1534        0.2449  \n",
      "9999          0        0.1875  \n",
      "\n",
      "[10000 rows x 25 columns]\n"
     ]
    }
   ],
   "source": [
    "num = data.describe().columns\n",
    "print(num)\n",
    "print(data[num])"
   ]
  },
  {
   "cell_type": "markdown",
   "metadata": {},
   "source": [
    "some values are zero. Only three of the column contain value greater than 1000.Winplaceperc contain value less than1"
   ]
  },
  {
   "cell_type": "markdown",
   "metadata": {},
   "source": [
    "# 4"
   ]
  },
  {
   "cell_type": "code",
   "execution_count": 132,
   "metadata": {},
   "outputs": [
    {
     "name": "stdout",
     "output_type": "stream",
     "text": [
      "            assists        boosts   damageDealt        DBNOs  headshotKills  \\\n",
      "count  10000.000000  10000.000000  10000.000000  10000.00000   10000.000000   \n",
      "mean       0.234600      1.088500    129.211264      0.64400       0.221700   \n",
      "std        0.575149      1.703279    167.193945      1.09562       0.577046   \n",
      "min        0.000000      0.000000      0.000000      0.00000       0.000000   \n",
      "25%        0.000000      0.000000      0.000000      0.00000       0.000000   \n",
      "50%        0.000000      0.000000     83.805000      0.00000       0.000000   \n",
      "75%        0.000000      2.000000    185.325000      1.00000       0.000000   \n",
      "max        7.000000     18.000000   3469.000000     11.00000      14.000000   \n",
      "\n",
      "              heals     killPlace    killPoints         kills   killStreaks  \\\n",
      "count  10000.000000  10000.000000  10000.000000  10000.000000  10000.000000   \n",
      "mean       1.354000     47.663100    506.970200      0.913400      0.543800   \n",
      "std        2.629102     27.424146    627.297959      1.524117      0.701948   \n",
      "min        0.000000      1.000000      0.000000      0.000000      0.000000   \n",
      "25%        0.000000     24.000000      0.000000      0.000000      0.000000   \n",
      "50%        0.000000     48.000000      0.000000      0.000000      0.000000   \n",
      "75%        2.000000     71.000000   1169.000000      1.000000      1.000000   \n",
      "max       31.000000    100.000000   1926.000000     35.000000      4.000000   \n",
      "\n",
      "       ...  rideDistance     roadKills  swimDistance     teamKills  \\\n",
      "count  ...  10000.000000  10000.000000  10000.000000  10000.000000   \n",
      "mean   ...    600.693584      0.004200      4.385917      0.024400   \n",
      "std    ...   1524.915601      0.074719     30.889620      0.171486   \n",
      "min    ...      0.000000      0.000000      0.000000      0.000000   \n",
      "25%    ...      0.000000      0.000000      0.000000      0.000000   \n",
      "50%    ...      0.000000      0.000000      0.000000      0.000000   \n",
      "75%    ...      0.000575      0.000000      0.000000      0.000000   \n",
      "max    ...  28780.000000      3.000000    971.200000      3.000000   \n",
      "\n",
      "       vehicleDestroys  walkDistance  weaponsAcquired   winPoints  \\\n",
      "count     10000.000000  10000.000000      10000.00000  10000.0000   \n",
      "mean          0.007700   1130.008410          3.63590    609.3440   \n",
      "std           0.089674   1168.597983          2.42209    739.7924   \n",
      "min           0.000000      0.000000          0.00000      0.0000   \n",
      "25%           0.000000    151.575000          2.00000      0.0000   \n",
      "50%           0.000000    650.350000          3.00000      0.0000   \n",
      "75%           0.000000   1923.250000          5.00000   1495.0000   \n",
      "max           2.000000  10490.000000         41.00000   1863.0000   \n",
      "\n",
      "       winPlacePerc          KILL  \n",
      "count  10000.000000  10000.000000  \n",
      "mean       0.469926      0.250300  \n",
      "std        0.304508      0.610809  \n",
      "min        0.000000      0.000000  \n",
      "25%        0.200000      0.000000  \n",
      "50%        0.458300      0.000000  \n",
      "75%        0.735100      0.000000  \n",
      "max        1.000000     14.000000  \n",
      "\n",
      "[8 rows x 26 columns]\n",
      "The average person kills:  0.9134\n"
     ]
    }
   ],
   "source": [
    "kills = data.describe()\n",
    "print(kills)\n",
    "avg  = data.kills.mean()\n",
    "print(\"The average person kills: \", avg)"
   ]
  },
  {
   "cell_type": "markdown",
   "metadata": {},
   "source": [
    "# 5"
   ]
  },
  {
   "cell_type": "code",
   "execution_count": 26,
   "metadata": {},
   "outputs": [
    {
     "name": "stdout",
     "output_type": "stream",
     "text": [
      "7.0\n"
     ]
    }
   ],
   "source": [
    "print(np.percentile(data.kills,99))"
   ]
  },
  {
   "cell_type": "markdown",
   "metadata": {},
   "source": [
    "# 6"
   ]
  },
  {
   "cell_type": "code",
   "execution_count": 25,
   "metadata": {},
   "outputs": [
    {
     "name": "stdout",
     "output_type": "stream",
     "text": [
      "35.0\n"
     ]
    }
   ],
   "source": [
    "import numpy as np\n",
    "print(np.percentile(data.kills,100))"
   ]
  },
  {
   "cell_type": "markdown",
   "metadata": {},
   "source": [
    "# 7"
   ]
  },
  {
   "cell_type": "code",
   "execution_count": 23,
   "metadata": {},
   "outputs": [
    {
     "name": "stdout",
     "output_type": "stream",
     "text": [
      "Index(['Id', 'groupId', 'matchId', 'assists', 'boosts', 'damageDealt', 'DBNOs',\n",
      "       'headshotKills', 'heals', 'killPlace', 'killPoints', 'kills',\n",
      "       'killStreaks', 'longestKill', 'matchDuration', 'matchType', 'maxPlace',\n",
      "       'numGroups', 'rankPoints', 'revives', 'rideDistance', 'roadKills',\n",
      "       'swimDistance', 'teamKills', 'vehicleDestroys', 'walkDistance',\n",
      "       'weaponsAcquired', 'winPoints', 'winPlacePerc'],\n",
      "      dtype='object')\n"
     ]
    }
   ],
   "source": [
    "column = data.columns\n",
    "print(column)"
   ]
  },
  {
   "cell_type": "markdown",
   "metadata": {},
   "source": [
    "# 8"
   ]
  },
  {
   "cell_type": "code",
   "execution_count": 28,
   "metadata": {},
   "outputs": [
    {
     "data": {
      "text/plain": [
       "<matplotlib.axes._subplots.AxesSubplot at 0x18e28a9ff40>"
      ]
     },
     "execution_count": 28,
     "metadata": {},
     "output_type": "execute_result"
    },
    {
     "data": {
      "image/png": "[encoded data removed]",
      "text/plain": [
       "<Figure size 432x288 with 1 Axes>"
      ]
     },
     "metadata": {
      "needs_background": "light"
     },
     "output_type": "display_data"
    }
   ],
   "source": [
    "import seaborn as sns\n",
    "sns.distplot(data['matchDuration'])"
   ]
  },
  {
   "cell_type": "markdown",
   "metadata": {},
   "source": [
    "maximum duration of the match is found between 1250 and 1500 s."
   ]
  },
  {
   "cell_type": "markdown",
   "metadata": {},
   "source": [
    "# 9"
   ]
  },
  {
   "cell_type": "code",
   "execution_count": 29,
   "metadata": {},
   "outputs": [
    {
     "data": {
      "text/plain": [
       "<matplotlib.axes._subplots.AxesSubplot at 0x18e2926a8e0>"
      ]
     },
     "execution_count": 29,
     "metadata": {},
     "output_type": "execute_result"
    },
    {
     "data": {
      "image/png": "[encoded data removed]",
      "text/plain": [
       "<Figure size 432x288 with 1 Axes>"
      ]
     },
     "metadata": {
      "needs_background": "light"
     },
     "output_type": "display_data"
    }
   ],
   "source": [
    "sns.distplot(data['walkDistance'])"
   ]
  },
  {
   "cell_type": "markdown",
   "metadata": {},
   "source": [
    "Maximum duration is found between 0 and 2000s"
   ]
  },
  {
   "cell_type": "markdown",
   "metadata": {},
   "source": [
    "# 10"
   ]
  },
  {
   "cell_type": "code",
   "execution_count": 65,
   "metadata": {},
   "outputs": [
    {
     "data": {
      "text/plain": [
       "<matplotlib.axes._subplots.AxesSubplot at 0x18e189c4b20>"
      ]
     },
     "execution_count": 65,
     "metadata": {},
     "output_type": "execute_result"
    },
    {
     "data": {
      "image/png": "[encoded data removed]",
      "text/plain": [
       "<Figure size 432x288 with 2 Axes>"
      ]
     },
     "metadata": {
      "needs_background": "light"
     },
     "output_type": "display_data"
    }
   ],
   "source": [
    "import matplotlib.pyplot as plt\n",
    "fig, ax = plt.subplots(2,1)\n",
    "sns.distplot(data['matchDuration'],ax=ax[0])\n",
    "sns.distplot(data['walkDistance'],ax=ax[1])"
   ]
  },
  {
   "cell_type": "markdown",
   "metadata": {},
   "source": [
    "# 11"
   ]
  },
  {
   "cell_type": "code",
   "execution_count": 42,
   "metadata": {},
   "outputs": [
    {
     "data": {
      "text/plain": [
       "<matplotlib.axes._subplots.AxesSubplot at 0x18e7b2b5280>"
      ]
     },
     "execution_count": 42,
     "metadata": {},
     "output_type": "execute_result"
    },
    {
     "data": {
      "image/png": "[encoded data removed]",
      "text/plain": [
       "<Figure size 432x288 with 2 Axes>"
      ]
     },
     "metadata": {
      "needs_background": "light"
     },
     "output_type": "display_data"
    }
   ],
   "source": [
    "import matplotlib.pyplot as plt\n",
    "fig, ax = plt.subplots(1,2)\n",
    "sns.distplot(data['matchDuration'],ax=ax[0])\n",
    "sns.distplot(data['walkDistance'],ax=ax[1])"
   ]
  },
  {
   "cell_type": "markdown",
   "metadata": {},
   "source": [
    "# 13"
   ]
  },
  {
   "cell_type": "code",
   "execution_count": 71,
   "metadata": {},
   "outputs": [
    {
     "data": {
      "text/plain": [
       "<bound method IndexOpsMixin.value_counts of count         10000\n",
       "unique           14\n",
       "top       squad-fpp\n",
       "freq           3969\n",
       "Name: matchType, dtype: object>"
      ]
     },
     "execution_count": 71,
     "metadata": {},
     "output_type": "execute_result"
    }
   ],
   "source": [
    "a = data['matchType'].describe().value_counts\n",
    "a"
   ]
  },
  {
   "cell_type": "markdown",
   "metadata": {},
   "source": [
    "There are 10000 count and 14 unique values in matchtype"
   ]
  },
  {
   "cell_type": "markdown",
   "metadata": {},
   "source": [
    "# 14"
   ]
  },
  {
   "cell_type": "code",
   "execution_count": 78,
   "metadata": {},
   "outputs": [
    {
     "data": {
      "image/png": "[encoded data removed]",
      "text/plain": [
       "<Figure size 432x288 with 1 Axes>"
      ]
     },
     "metadata": {
      "needs_background": "light"
     },
     "output_type": "display_data"
    }
   ],
   "source": [
    "sns.barplot(data['matchType'], data['killPoints']);\n",
    "plt.xticks(rotation=50);"
   ]
  },
  {
   "cell_type": "markdown",
   "metadata": {},
   "source": [
    "# 15"
   ]
  },
  {
   "cell_type": "code",
   "execution_count": 79,
   "metadata": {},
   "outputs": [
    {
     "data": {
      "image/png": "[encoded data removed]",
      "text/plain": [
       "<Figure size 432x288 with 1 Axes>"
      ]
     },
     "metadata": {
      "needs_background": "light"
     },
     "output_type": "display_data"
    }
   ],
   "source": [
    "sns.barplot(data[\"matchType\"],data['weaponsAcquired'])\n",
    "plt.xticks(rotation=50);"
   ]
  },
  {
   "cell_type": "markdown",
   "metadata": {},
   "source": [
    "# 16"
   ]
  },
  {
   "cell_type": "code",
   "execution_count": 81,
   "metadata": {},
   "outputs": [
    {
     "data": {
      "text/html": [
       "<div>\n",
       "<style scoped>\n",
       "    .dataframe tbody tr th:only-of-type {\n",
       "        vertical-align: middle;\n",
       "    }\n",
       "\n",
       "    .dataframe tbody tr th {\n",
       "        vertical-align: top;\n",
       "    }\n",
       "\n",
       "    .dataframe thead th {\n",
       "        text-align: right;\n",
       "    }\n",
       "</style>\n",
       "<table border=\"1\" class=\"dataframe\">\n",
       "  <thead>\n",
       "    <tr style=\"text-align: right;\">\n",
       "      <th></th>\n",
       "      <th>Id</th>\n",
       "      <th>groupId</th>\n",
       "      <th>matchId</th>\n",
       "      <th>matchType</th>\n",
       "    </tr>\n",
       "  </thead>\n",
       "  <tbody>\n",
       "    <tr>\n",
       "      <th>0</th>\n",
       "      <td>2f262dd9795e60</td>\n",
       "      <td>78437bcd91d40e</td>\n",
       "      <td>d5db3a49eb2955</td>\n",
       "      <td>squad-fpp</td>\n",
       "    </tr>\n",
       "    <tr>\n",
       "      <th>1</th>\n",
       "      <td>a32847cf5bf34b</td>\n",
       "      <td>85b7ce5a12e10b</td>\n",
       "      <td>65223f05c7fdb4</td>\n",
       "      <td>squad-fpp</td>\n",
       "    </tr>\n",
       "    <tr>\n",
       "      <th>2</th>\n",
       "      <td>1b1900a9990396</td>\n",
       "      <td>edf80d6523380a</td>\n",
       "      <td>1cadec4534f30a</td>\n",
       "      <td>squad-fpp</td>\n",
       "    </tr>\n",
       "    <tr>\n",
       "      <th>3</th>\n",
       "      <td>f589dd03b60bf2</td>\n",
       "      <td>804ab5e5585558</td>\n",
       "      <td>c4a5676dc91604</td>\n",
       "      <td>squad</td>\n",
       "    </tr>\n",
       "    <tr>\n",
       "      <th>4</th>\n",
       "      <td>c23c4cc5b78b35</td>\n",
       "      <td>b3e2cd169ed920</td>\n",
       "      <td>cd595700a01bfa</td>\n",
       "      <td>squad-fpp</td>\n",
       "    </tr>\n",
       "    <tr>\n",
       "      <th>...</th>\n",
       "      <td>...</td>\n",
       "      <td>...</td>\n",
       "      <td>...</td>\n",
       "      <td>...</td>\n",
       "    </tr>\n",
       "    <tr>\n",
       "      <th>9995</th>\n",
       "      <td>ef4f474acd8e85</td>\n",
       "      <td>2eca2a8391f75d</td>\n",
       "      <td>492ecdfae90b46</td>\n",
       "      <td>squad-fpp</td>\n",
       "    </tr>\n",
       "    <tr>\n",
       "      <th>9996</th>\n",
       "      <td>cf0bf82fb4d80e</td>\n",
       "      <td>2eaf2765f93adb</td>\n",
       "      <td>14bffd71e96320</td>\n",
       "      <td>duo-fpp</td>\n",
       "    </tr>\n",
       "    <tr>\n",
       "      <th>9997</th>\n",
       "      <td>a0a31a0b1dcbe1</td>\n",
       "      <td>8d50c64ccc5071</td>\n",
       "      <td>147e4bbb62e3bb</td>\n",
       "      <td>duo-fpp</td>\n",
       "    </tr>\n",
       "    <tr>\n",
       "      <th>9998</th>\n",
       "      <td>f6874657399d69</td>\n",
       "      <td>d31843d7e62ccb</td>\n",
       "      <td>662567dcf280f5</td>\n",
       "      <td>duo-fpp</td>\n",
       "    </tr>\n",
       "    <tr>\n",
       "      <th>9999</th>\n",
       "      <td>90359b0b8f8b0d</td>\n",
       "      <td>61d5b1bb8da43f</td>\n",
       "      <td>258bfa48d88014</td>\n",
       "      <td>solo</td>\n",
       "    </tr>\n",
       "  </tbody>\n",
       "</table>\n",
       "<p>10000 rows × 4 columns</p>\n",
       "</div>"
      ],
      "text/plain": [
       "                  Id         groupId         matchId  matchType\n",
       "0     2f262dd9795e60  78437bcd91d40e  d5db3a49eb2955  squad-fpp\n",
       "1     a32847cf5bf34b  85b7ce5a12e10b  65223f05c7fdb4  squad-fpp\n",
       "2     1b1900a9990396  edf80d6523380a  1cadec4534f30a  squad-fpp\n",
       "3     f589dd03b60bf2  804ab5e5585558  c4a5676dc91604      squad\n",
       "4     c23c4cc5b78b35  b3e2cd169ed920  cd595700a01bfa  squad-fpp\n",
       "...              ...             ...             ...        ...\n",
       "9995  ef4f474acd8e85  2eca2a8391f75d  492ecdfae90b46  squad-fpp\n",
       "9996  cf0bf82fb4d80e  2eaf2765f93adb  14bffd71e96320    duo-fpp\n",
       "9997  a0a31a0b1dcbe1  8d50c64ccc5071  147e4bbb62e3bb    duo-fpp\n",
       "9998  f6874657399d69  d31843d7e62ccb  662567dcf280f5    duo-fpp\n",
       "9999  90359b0b8f8b0d  61d5b1bb8da43f  258bfa48d88014       solo\n",
       "\n",
       "[10000 rows x 4 columns]"
      ]
     },
     "execution_count": 81,
     "metadata": {},
     "output_type": "execute_result"
    }
   ],
   "source": [
    "data.select_dtypes(exclude=['number'])"
   ]
  },
  {
   "cell_type": "markdown",
   "metadata": {},
   "source": [
    "# 17"
   ]
  },
  {
   "cell_type": "code",
   "execution_count": 84,
   "metadata": {},
   "outputs": [
    {
     "data": {
      "text/plain": [
       "(array([ 0,  1,  2,  3,  4,  5,  6,  7,  8,  9, 10, 11, 12, 13]),\n",
       " <a list of 14 Text major ticklabel objects>)"
      ]
     },
     "execution_count": 84,
     "metadata": {},
     "output_type": "execute_result"
    },
    {
     "data": {
      "image/png": "[encoded data removed]",
      "text/plain": [
       "<Figure size 432x288 with 1 Axes>"
      ]
     },
     "metadata": {
      "needs_background": "light"
     },
     "output_type": "display_data"
    }
   ],
   "source": [
    "sns.boxplot(data['matchType'],data[\"winPlacePerc\"])\n",
    "plt.xticks(rotation=50)"
   ]
  },
  {
   "cell_type": "markdown",
   "metadata": {},
   "source": [
    "# 18"
   ]
  },
  {
   "cell_type": "code",
   "execution_count": 86,
   "metadata": {},
   "outputs": [
    {
     "data": {
      "text/plain": [
       "(array([ 0,  1,  2,  3,  4,  5,  6,  7,  8,  9, 10, 11, 12, 13]),\n",
       " <a list of 14 Text major ticklabel objects>)"
      ]
     },
     "execution_count": 86,
     "metadata": {},
     "output_type": "execute_result"
    },
    {
     "data": {
      "image/png": "[encoded data removed]",
      "text/plain": [
       "<Figure size 432x288 with 1 Axes>"
      ]
     },
     "metadata": {
      "needs_background": "light"
     },
     "output_type": "display_data"
    }
   ],
   "source": [
    "sns.boxplot(data['matchType'],data['matchDuration'])\n",
    "plt.xticks(rotation=50)"
   ]
  },
  {
   "cell_type": "markdown",
   "metadata": {},
   "source": [
    "# 19"
   ]
  },
  {
   "cell_type": "code",
   "execution_count": 88,
   "metadata": {},
   "outputs": [
    {
     "data": {
      "text/plain": [
       "(array([ 250.,  500.,  750., 1000., 1250., 1500., 1750., 2000., 2250.,\n",
       "        2500.]),\n",
       " <a list of 10 Text major ticklabel objects>)"
      ]
     },
     "execution_count": 88,
     "metadata": {},
     "output_type": "execute_result"
    },
    {
     "data": {
      "image/png": "[encoded data removed]",
      "text/plain": [
       "<Figure size 432x288 with 1 Axes>"
      ]
     },
     "metadata": {
      "needs_background": "light"
     },
     "output_type": "display_data"
    }
   ],
   "source": [
    "sns.boxplot(data['matchDuration'],data['matchType'])\n",
    "plt.xticks(rotation=50)"
   ]
  },
  {
   "cell_type": "markdown",
   "metadata": {},
   "source": [
    "# 20"
   ]
  },
  {
   "cell_type": "code",
   "execution_count": 97,
   "metadata": {},
   "outputs": [
    {
     "data": {
      "text/html": [
       "<div>\n",
       "<style scoped>\n",
       "    .dataframe tbody tr th:only-of-type {\n",
       "        vertical-align: middle;\n",
       "    }\n",
       "\n",
       "    .dataframe tbody tr th {\n",
       "        vertical-align: top;\n",
       "    }\n",
       "\n",
       "    .dataframe thead th {\n",
       "        text-align: right;\n",
       "    }\n",
       "</style>\n",
       "<table border=\"1\" class=\"dataframe\">\n",
       "  <thead>\n",
       "    <tr style=\"text-align: right;\">\n",
       "      <th></th>\n",
       "      <th>Id</th>\n",
       "      <th>groupId</th>\n",
       "      <th>matchId</th>\n",
       "      <th>assists</th>\n",
       "      <th>boosts</th>\n",
       "      <th>damageDealt</th>\n",
       "      <th>DBNOs</th>\n",
       "      <th>headshotKills</th>\n",
       "      <th>heals</th>\n",
       "      <th>killPlace</th>\n",
       "      <th>...</th>\n",
       "      <th>rideDistance</th>\n",
       "      <th>roadKills</th>\n",
       "      <th>swimDistance</th>\n",
       "      <th>teamKills</th>\n",
       "      <th>vehicleDestroys</th>\n",
       "      <th>walkDistance</th>\n",
       "      <th>weaponsAcquired</th>\n",
       "      <th>winPoints</th>\n",
       "      <th>winPlacePerc</th>\n",
       "      <th>KILL</th>\n",
       "    </tr>\n",
       "  </thead>\n",
       "  <tbody>\n",
       "    <tr>\n",
       "      <th>0</th>\n",
       "      <td>2f262dd9795e60</td>\n",
       "      <td>78437bcd91d40e</td>\n",
       "      <td>d5db3a49eb2955</td>\n",
       "      <td>0</td>\n",
       "      <td>0</td>\n",
       "      <td>0.0</td>\n",
       "      <td>0</td>\n",
       "      <td>0</td>\n",
       "      <td>0</td>\n",
       "      <td>92</td>\n",
       "      <td>...</td>\n",
       "      <td>0.0</td>\n",
       "      <td>0</td>\n",
       "      <td>0.0</td>\n",
       "      <td>0</td>\n",
       "      <td>0</td>\n",
       "      <td>0.00</td>\n",
       "      <td>0</td>\n",
       "      <td>1470</td>\n",
       "      <td>0.0000</td>\n",
       "      <td>0</td>\n",
       "    </tr>\n",
       "    <tr>\n",
       "      <th>1</th>\n",
       "      <td>a32847cf5bf34b</td>\n",
       "      <td>85b7ce5a12e10b</td>\n",
       "      <td>65223f05c7fdb4</td>\n",
       "      <td>0</td>\n",
       "      <td>0</td>\n",
       "      <td>163.2</td>\n",
       "      <td>1</td>\n",
       "      <td>1</td>\n",
       "      <td>0</td>\n",
       "      <td>42</td>\n",
       "      <td>...</td>\n",
       "      <td>0.0</td>\n",
       "      <td>0</td>\n",
       "      <td>0.0</td>\n",
       "      <td>0</td>\n",
       "      <td>0</td>\n",
       "      <td>132.70</td>\n",
       "      <td>2</td>\n",
       "      <td>1531</td>\n",
       "      <td>0.2222</td>\n",
       "      <td>1</td>\n",
       "    </tr>\n",
       "    <tr>\n",
       "      <th>2</th>\n",
       "      <td>1b1900a9990396</td>\n",
       "      <td>edf80d6523380a</td>\n",
       "      <td>1cadec4534f30a</td>\n",
       "      <td>0</td>\n",
       "      <td>3</td>\n",
       "      <td>278.7</td>\n",
       "      <td>2</td>\n",
       "      <td>1</td>\n",
       "      <td>8</td>\n",
       "      <td>16</td>\n",
       "      <td>...</td>\n",
       "      <td>0.0</td>\n",
       "      <td>0</td>\n",
       "      <td>0.0</td>\n",
       "      <td>0</td>\n",
       "      <td>0</td>\n",
       "      <td>3591.00</td>\n",
       "      <td>10</td>\n",
       "      <td>0</td>\n",
       "      <td>0.8571</td>\n",
       "      <td>1</td>\n",
       "    </tr>\n",
       "    <tr>\n",
       "      <th>3</th>\n",
       "      <td>f589dd03b60bf2</td>\n",
       "      <td>804ab5e5585558</td>\n",
       "      <td>c4a5676dc91604</td>\n",
       "      <td>0</td>\n",
       "      <td>0</td>\n",
       "      <td>191.9</td>\n",
       "      <td>1</td>\n",
       "      <td>0</td>\n",
       "      <td>0</td>\n",
       "      <td>31</td>\n",
       "      <td>...</td>\n",
       "      <td>0.0</td>\n",
       "      <td>0</td>\n",
       "      <td>0.0</td>\n",
       "      <td>0</td>\n",
       "      <td>0</td>\n",
       "      <td>332.70</td>\n",
       "      <td>3</td>\n",
       "      <td>0</td>\n",
       "      <td>0.3462</td>\n",
       "      <td>0</td>\n",
       "    </tr>\n",
       "    <tr>\n",
       "      <th>4</th>\n",
       "      <td>c23c4cc5b78b35</td>\n",
       "      <td>b3e2cd169ed920</td>\n",
       "      <td>cd595700a01bfa</td>\n",
       "      <td>0</td>\n",
       "      <td>0</td>\n",
       "      <td>100.0</td>\n",
       "      <td>1</td>\n",
       "      <td>0</td>\n",
       "      <td>0</td>\n",
       "      <td>87</td>\n",
       "      <td>...</td>\n",
       "      <td>0.0</td>\n",
       "      <td>0</td>\n",
       "      <td>0.0</td>\n",
       "      <td>0</td>\n",
       "      <td>0</td>\n",
       "      <td>252.70</td>\n",
       "      <td>3</td>\n",
       "      <td>1557</td>\n",
       "      <td>0.0690</td>\n",
       "      <td>0</td>\n",
       "    </tr>\n",
       "    <tr>\n",
       "      <th>...</th>\n",
       "      <td>...</td>\n",
       "      <td>...</td>\n",
       "      <td>...</td>\n",
       "      <td>...</td>\n",
       "      <td>...</td>\n",
       "      <td>...</td>\n",
       "      <td>...</td>\n",
       "      <td>...</td>\n",
       "      <td>...</td>\n",
       "      <td>...</td>\n",
       "      <td>...</td>\n",
       "      <td>...</td>\n",
       "      <td>...</td>\n",
       "      <td>...</td>\n",
       "      <td>...</td>\n",
       "      <td>...</td>\n",
       "      <td>...</td>\n",
       "      <td>...</td>\n",
       "      <td>...</td>\n",
       "      <td>...</td>\n",
       "      <td>...</td>\n",
       "    </tr>\n",
       "    <tr>\n",
       "      <th>9995</th>\n",
       "      <td>ef4f474acd8e85</td>\n",
       "      <td>2eca2a8391f75d</td>\n",
       "      <td>492ecdfae90b46</td>\n",
       "      <td>0</td>\n",
       "      <td>3</td>\n",
       "      <td>204.5</td>\n",
       "      <td>1</td>\n",
       "      <td>0</td>\n",
       "      <td>0</td>\n",
       "      <td>17</td>\n",
       "      <td>...</td>\n",
       "      <td>0.0</td>\n",
       "      <td>0</td>\n",
       "      <td>0.0</td>\n",
       "      <td>0</td>\n",
       "      <td>0</td>\n",
       "      <td>1648.00</td>\n",
       "      <td>4</td>\n",
       "      <td>1471</td>\n",
       "      <td>0.8333</td>\n",
       "      <td>0</td>\n",
       "    </tr>\n",
       "    <tr>\n",
       "      <th>9996</th>\n",
       "      <td>cf0bf82fb4d80e</td>\n",
       "      <td>2eaf2765f93adb</td>\n",
       "      <td>14bffd71e96320</td>\n",
       "      <td>0</td>\n",
       "      <td>0</td>\n",
       "      <td>0.0</td>\n",
       "      <td>0</td>\n",
       "      <td>0</td>\n",
       "      <td>0</td>\n",
       "      <td>49</td>\n",
       "      <td>...</td>\n",
       "      <td>0.0</td>\n",
       "      <td>0</td>\n",
       "      <td>0.0</td>\n",
       "      <td>0</td>\n",
       "      <td>0</td>\n",
       "      <td>897.10</td>\n",
       "      <td>6</td>\n",
       "      <td>1500</td>\n",
       "      <td>0.7174</td>\n",
       "      <td>0</td>\n",
       "    </tr>\n",
       "    <tr>\n",
       "      <th>9997</th>\n",
       "      <td>a0a31a0b1dcbe1</td>\n",
       "      <td>8d50c64ccc5071</td>\n",
       "      <td>147e4bbb62e3bb</td>\n",
       "      <td>0</td>\n",
       "      <td>0</td>\n",
       "      <td>0.0</td>\n",
       "      <td>0</td>\n",
       "      <td>0</td>\n",
       "      <td>0</td>\n",
       "      <td>83</td>\n",
       "      <td>...</td>\n",
       "      <td>0.0</td>\n",
       "      <td>0</td>\n",
       "      <td>0.0</td>\n",
       "      <td>0</td>\n",
       "      <td>0</td>\n",
       "      <td>188.20</td>\n",
       "      <td>2</td>\n",
       "      <td>1434</td>\n",
       "      <td>0.2083</td>\n",
       "      <td>0</td>\n",
       "    </tr>\n",
       "    <tr>\n",
       "      <th>9998</th>\n",
       "      <td>f6874657399d69</td>\n",
       "      <td>d31843d7e62ccb</td>\n",
       "      <td>662567dcf280f5</td>\n",
       "      <td>0</td>\n",
       "      <td>0</td>\n",
       "      <td>0.0</td>\n",
       "      <td>0</td>\n",
       "      <td>0</td>\n",
       "      <td>0</td>\n",
       "      <td>82</td>\n",
       "      <td>...</td>\n",
       "      <td>0.0</td>\n",
       "      <td>0</td>\n",
       "      <td>0.0</td>\n",
       "      <td>0</td>\n",
       "      <td>0</td>\n",
       "      <td>108.10</td>\n",
       "      <td>5</td>\n",
       "      <td>1534</td>\n",
       "      <td>0.2449</td>\n",
       "      <td>0</td>\n",
       "    </tr>\n",
       "    <tr>\n",
       "      <th>9999</th>\n",
       "      <td>90359b0b8f8b0d</td>\n",
       "      <td>61d5b1bb8da43f</td>\n",
       "      <td>258bfa48d88014</td>\n",
       "      <td>0</td>\n",
       "      <td>0</td>\n",
       "      <td>0.0</td>\n",
       "      <td>0</td>\n",
       "      <td>0</td>\n",
       "      <td>0</td>\n",
       "      <td>78</td>\n",
       "      <td>...</td>\n",
       "      <td>0.0</td>\n",
       "      <td>0</td>\n",
       "      <td>0.0</td>\n",
       "      <td>0</td>\n",
       "      <td>0</td>\n",
       "      <td>53.36</td>\n",
       "      <td>1</td>\n",
       "      <td>0</td>\n",
       "      <td>0.1875</td>\n",
       "      <td>0</td>\n",
       "    </tr>\n",
       "  </tbody>\n",
       "</table>\n",
       "<p>10000 rows × 30 columns</p>\n",
       "</div>"
      ],
      "text/plain": [
       "                  Id         groupId         matchId  assists  boosts  \\\n",
       "0     2f262dd9795e60  78437bcd91d40e  d5db3a49eb2955        0       0   \n",
       "1     a32847cf5bf34b  85b7ce5a12e10b  65223f05c7fdb4        0       0   \n",
       "2     1b1900a9990396  edf80d6523380a  1cadec4534f30a        0       3   \n",
       "3     f589dd03b60bf2  804ab5e5585558  c4a5676dc91604        0       0   \n",
       "4     c23c4cc5b78b35  b3e2cd169ed920  cd595700a01bfa        0       0   \n",
       "...              ...             ...             ...      ...     ...   \n",
       "9995  ef4f474acd8e85  2eca2a8391f75d  492ecdfae90b46        0       3   \n",
       "9996  cf0bf82fb4d80e  2eaf2765f93adb  14bffd71e96320        0       0   \n",
       "9997  a0a31a0b1dcbe1  8d50c64ccc5071  147e4bbb62e3bb        0       0   \n",
       "9998  f6874657399d69  d31843d7e62ccb  662567dcf280f5        0       0   \n",
       "9999  90359b0b8f8b0d  61d5b1bb8da43f  258bfa48d88014        0       0   \n",
       "\n",
       "      damageDealt  DBNOs  headshotKills  heals  killPlace  ...  rideDistance  \\\n",
       "0             0.0      0              0      0         92  ...           0.0   \n",
       "1           163.2      1              1      0         42  ...           0.0   \n",
       "2           278.7      2              1      8         16  ...           0.0   \n",
       "3           191.9      1              0      0         31  ...           0.0   \n",
       "4           100.0      1              0      0         87  ...           0.0   \n",
       "...           ...    ...            ...    ...        ...  ...           ...   \n",
       "9995        204.5      1              0      0         17  ...           0.0   \n",
       "9996          0.0      0              0      0         49  ...           0.0   \n",
       "9997          0.0      0              0      0         83  ...           0.0   \n",
       "9998          0.0      0              0      0         82  ...           0.0   \n",
       "9999          0.0      0              0      0         78  ...           0.0   \n",
       "\n",
       "      roadKills  swimDistance  teamKills  vehicleDestroys walkDistance  \\\n",
       "0             0           0.0          0                0         0.00   \n",
       "1             0           0.0          0                0       132.70   \n",
       "2             0           0.0          0                0      3591.00   \n",
       "3             0           0.0          0                0       332.70   \n",
       "4             0           0.0          0                0       252.70   \n",
       "...         ...           ...        ...              ...          ...   \n",
       "9995          0           0.0          0                0      1648.00   \n",
       "9996          0           0.0          0                0       897.10   \n",
       "9997          0           0.0          0                0       188.20   \n",
       "9998          0           0.0          0                0       108.10   \n",
       "9999          0           0.0          0                0        53.36   \n",
       "\n",
       "      weaponsAcquired  winPoints  winPlacePerc  KILL  \n",
       "0                   0       1470        0.0000     0  \n",
       "1                   2       1531        0.2222     1  \n",
       "2                  10          0        0.8571     1  \n",
       "3                   3          0        0.3462     0  \n",
       "4                   3       1557        0.0690     0  \n",
       "...               ...        ...           ...   ...  \n",
       "9995                4       1471        0.8333     0  \n",
       "9996                6       1500        0.7174     0  \n",
       "9997                2       1434        0.2083     0  \n",
       "9998                5       1534        0.2449     0  \n",
       "9999                1          0        0.1875     0  \n",
       "\n",
       "[10000 rows x 30 columns]"
      ]
     },
     "execution_count": 97,
     "metadata": {},
     "output_type": "execute_result"
    }
   ],
   "source": [
    "KILL = data['headshotKills'] + data['roadKills'] + data['teamKills']\n",
    "data['KILL'] = KILL\n",
    "data"
   ]
  },
  {
   "cell_type": "markdown",
   "metadata": {},
   "source": [
    "# 21"
   ]
  },
  {
   "cell_type": "code",
   "execution_count": 103,
   "metadata": {},
   "outputs": [
    {
     "name": "stdout",
     "output_type": "stream",
     "text": [
      "0       0.00\n",
      "1       0.22\n",
      "2       0.86\n",
      "3       0.35\n",
      "4       0.07\n",
      "        ... \n",
      "9995    0.83\n",
      "9996    0.72\n",
      "9997    0.21\n",
      "9998    0.24\n",
      "9999    0.19\n",
      "Name: winPlacePerc, Length: 10000, dtype: float64\n"
     ]
    }
   ],
   "source": [
    "print(round(data['winPlacePerc'],2))"
   ]
  },
  {
   "cell_type": "markdown",
   "metadata": {},
   "source": [
    "# 22"
   ]
  },
  {
   "cell_type": "code",
   "execution_count": 131,
   "metadata": {},
   "outputs": [
    {
     "name": "stdout",
     "output_type": "stream",
     "text": [
      "[135.13380000000004, 121.9646, 110.14888, 126.88668000000001, 138.216, 153.81280000000004, 112.2578, 192.31534599999992, 107.99999999999996, 89.9622, 105.97159999999998, 100.26219999999999, 107.01439999999998, 115.45620000000001, 127.07000000000002, 102.1972, 136.27, 99.01731999999998, 111.27250000000002, 108.6658, 114.85018, 116.6352, 129.92079999999999, 126.321746, 125.17784000000002, 107.99660000000002, 79.54196, 137.3312, 89.84488000000002, 119.38567999999998, 119.7132, 122.28480000000002, 125.6814, 128.0806, 128.33860000000004, 107.536, 111.41562000000002, 121.37904, 124.67355999999998, 106.42060000000004, 144.79940000000002, 129.8178, 124.31780000000002, 149.23336, 121.47685999999997, 100.01479999999998, 149.9126, 73.8942, 178.55635, 130.57599999999996, 92.2484, 171.8662, 141.3174, 141.66439999999997, 110.58139999999999, 133.47120000000004, 136.5752, 162.6952, 94.43639999999999, 93.89079999999998, 104.72812, 116.1152, 156.56859999999998, 139.59676000000002, 154.09399999999997, 99.11779999999999, 125.69319999999998, 128.34377999999998, 94.12078000000001, 125.51799999999999, 144.38799999999998, 131.34219999999996, 104.00219999999999, 130.985, 130.8708, 131.98382, 117.77919999999999, 144.62820000000002, 124.48812, 102.65056000000003, 130.81459999999998, 127.53739999999998, 103.96520000000001, 127.22319999999999, 140.98384, 151.62419999999997, 97.17456999999999, 130.5312, 121.70319999999997, 160.00806, 164.4982, 120.41423999999999, 97.4922, 99.4403, 94.37065999999999, 146.2534, 120.8526, 112.34640000000003, 147.87920000000003, 114.1526, 162.68479999999997]\n"
     ]
    },
    {
     "data": {
      "text/plain": [
       "<matplotlib.axes._subplots.AxesSubplot at 0x18e1c6226d0>"
      ]
     },
     "execution_count": 131,
     "metadata": {},
     "output_type": "execute_result"
    },
    {
     "data": {
      "image/png": "[encoded data removed]",
      "text/plain": [
       "<Figure size 432x288 with 1 Axes>"
      ]
     },
     "metadata": {
      "needs_background": "light"
     },
     "output_type": "display_data"
    }
   ],
   "source": [
    "import numpy as np\n",
    "lis = []\n",
    "for i in range(101):\n",
    "    c = data['damageDealt'].sample(50).mean()\n",
    "    lis.append(c)\n",
    "print(lis)\n",
    "arr = np.array(lis)\n",
    "sns.distplot(arr)"
   ]
  },
  {
   "cell_type": "code",
   "execution_count": null,
   "metadata": {},
   "outputs": [],
   "source": []
  }
 ],
 "metadata": {
  "kernelspec": {
   "display_name": "Python 3",
   "language": "python",
   "name": "python3"
  },
  "language_info": {
   "codemirror_mode": {
    "name": "ipython",
    "version": 3
   },
   "file_extension": ".py",
   "mimetype": "text/x-python",
   "name": "python",
   "nbconvert_exporter": "python",
   "pygments_lexer": "ipython3",
   "version": "3.8.3"
  }
 },
 "nbformat": 4,
 "nbformat_minor": 4
}
